{
 "cells": [
  {
   "cell_type": "code",
   "execution_count": 2,
   "metadata": {},
   "outputs": [],
   "source": [
    "import numpy as np\n",
    "import pynq\n",
    "from pynq import MMIO\n",
    "import time"
   ]
  },
  {
   "cell_type": "code",
   "execution_count": 3,
   "metadata": {},
   "outputs": [],
   "source": [
    "batchSize = 1\n",
    "numInputChannels = 3\n",
    "numOutputChannels = 48\n",
    "strideSize = 1\n",
    "kernelSize = 3\n",
    "inputHeight = 160\n",
    "inputWidth = 320\n",
    "outputHeight = 160\n",
    "outputWidth = 320\n",
    "paddingSize = 1\n",
    "data_type = np.float32"
   ]
  },
  {
   "cell_type": "code",
   "execution_count": 4,
   "metadata": {},
   "outputs": [
    {
     "data": {
      "application/javascript": "\ntry {\nrequire(['notebook/js/codecell'], function(codecell) {\n  codecell.CodeCell.options_default.highlight_modes[\n      'magic_text/x-csrc'] = {'reg':[/^%%microblaze/]};\n  Jupyter.notebook.events.one('kernel_ready.Kernel', function(){\n      Jupyter.notebook.get_cells().map(function(cell){\n          if (cell.cell_type == 'code'){ cell.auto_highlight(); } }) ;\n  });\n});\n} catch (e) {};\n"
     },
     "metadata": {},
     "output_type": "display_data"
    },
    {
     "data": {
      "application/javascript": "\ntry {\nrequire(['notebook/js/codecell'], function(codecell) {\n  codecell.CodeCell.options_default.highlight_modes[\n      'magic_text/x-csrc'] = {'reg':[/^%%pybind11/]};\n  Jupyter.notebook.events.one('kernel_ready.Kernel', function(){\n      Jupyter.notebook.get_cells().map(function(cell){\n          if (cell.cell_type == 'code'){ cell.auto_highlight(); } }) ;\n  });\n});\n} catch (e) {};\n"
     },
     "metadata": {},
     "output_type": "display_data"
    }
   ],
   "source": [
    "overlay = pynq.Overlay('design_1.bit')\n",
    "top_ip = overlay.dw_conv_0\n",
    "top_ip.signature"
   ]
  },
  {
   "cell_type": "code",
   "execution_count": 5,
   "metadata": {},
   "outputs": [],
   "source": [
    "def float32_to_fixed16_3(value):\n",
    "    scale_factor = 2**13  # for 16,3 fixed point\n",
    "    return np.int16(np.round(value * scale_factor))\n",
    "    return fixed_point_value\n",
    "\n",
    "def int16_to_fixed16_3(value):\n",
    "    scale_factor = 2 ** 13\n",
    "    fixed_point_as_float = value / scale_factor\n",
    "    return fixed_point_as_float"
   ]
  },
  {
   "cell_type": "code",
   "execution_count": 6,
   "metadata": {},
   "outputs": [],
   "source": [
    "inBuffer = pynq.allocate((batchSize, numInputChannels, inputHeight, inputWidth),np.int16)\n",
    "wBuffer0 = pynq.allocate((numInputChannels,1, kernelSize , kernelSize),np.int16)\n",
    "biasBuffer0 = pynq.allocate((numInputChannels ),np.int16)\n",
    "wBuffer1 = pynq.allocate((numOutputChannels , numInputChannels, 1, 1),np.int16)\n",
    "biasBuffer1 = pynq.allocate((numOutputChannels),np.int16)\n",
    "outBuffer = pynq.allocate((batchSize, numOutputChannels , outputHeight , outputWidth),np.int16)"
   ]
  },
  {
   "cell_type": "code",
   "execution_count": 7,
   "metadata": {},
   "outputs": [],
   "source": [
    "size_input3x3 = batchSize * numInputChannels * inputHeight * inputWidth\n",
    "size_weight0 =  numInputChannels * 1 * kernelSize * kernelSize\n",
    "size_bias0 = numInputChannels \n",
    "\n",
    "size_weight1 = numOutputChannels * numInputChannels * 1 * 1\n",
    "size_bias1 = numOutputChannels\n",
    "size_outGolden = batchSize * numOutputChannels * outputHeight * outputWidth\n",
    "\n",
    "with open('dw_conv_input3x3.bin', 'rb') as file:\n",
    "    input_read = np.fromfile(file, dtype=data_type, count=size_input3x3)\n",
    "my_input = input_read.reshape((batchSize, numInputChannels, inputHeight, inputWidth))\n",
    "\n",
    "with open('dw_conv_weight3x3.bin', 'rb') as file:\n",
    "    weight0_read = np.fromfile(file, dtype=data_type, count=size_weight0)\n",
    "weight0 = weight0_read.reshape((numInputChannels, 1, kernelSize, kernelSize))\n",
    "\n",
    "with open('dw_conv_bias3x3.bin', 'rb') as file:\n",
    "    bias0_read = np.fromfile(file, dtype=data_type, count=size_bias0)\n",
    "bias0 = bias0_read.reshape((numInputChannels))\n",
    "\n",
    "with open('conv_weight1x1.bin', 'rb') as file:\n",
    "    weight1_read = np.fromfile(file, dtype=data_type, count=size_weight1)\n",
    "weight1 = weight1_read.reshape((numOutputChannels, numInputChannels, 1, 1))\n",
    "\n",
    "with open('conv_bias1x1.bin', 'rb') as file:\n",
    "    bias1_read = np.fromfile(file, dtype=data_type, count=size_bias1)\n",
    "bias1 = bias1_read.reshape((numOutputChannels))\n",
    "\n",
    "with open('conv_output_torch1x1.bin', 'rb') as file:\n",
    "    outGolden_read = np.fromfile(file, dtype=data_type, count=size_outGolden)\n",
    "outGolden = outGolden_read.reshape((batchSize, numOutputChannels, outputHeight, outputWidth))"
   ]
  },
  {
   "cell_type": "code",
   "execution_count": 8,
   "metadata": {},
   "outputs": [],
   "source": [
    "#initialize input\n",
    "for b in range (0, batchSize):\n",
    "    for i in range (0, numInputChannels):\n",
    "        for j in range (0, inputHeight):\n",
    "            for k in range (0, inputWidth):\n",
    "                inBuffer[b][i][j][k] = int(float32_to_fixed16_3(my_input[b][i][j][k]))\n",
    "\n",
    "for i in range (0, numInputChannels):\n",
    "    for j in range (0, kernelSize):\n",
    "        for k in range (0, kernelSize):\n",
    "            wBuffer0[i][0][j][k] = int(float32_to_fixed16_3(weight0[i][0][j][k]))\n",
    "\n",
    "for i in range (0, numInputChannels):\n",
    "    biasBuffer0[i] = int(float32_to_fixed16_3(bias0[i]))\n",
    "\n",
    "\n",
    "for i in range (0, numOutputChannels):\n",
    "    for j in range (0, numInputChannels):\n",
    "        wBuffer1[i][j][0][0] = int(float32_to_fixed16_3(weight1[i][j][0][0]))\n",
    "\n",
    "for i in range (0, numOutputChannels):\n",
    "    biasBuffer1[i] = int(float32_to_fixed16_3(bias1[i]))"
   ]
  },
  {
   "cell_type": "code",
   "execution_count": 9,
   "metadata": {},
   "outputs": [],
   "source": [
    "#specify the address\n",
    "inptr = inBuffer.physical_address\n",
    "w0ptr = wBuffer0.physical_address\n",
    "b0ptr = biasBuffer0.physical_address\n",
    "w1ptr = wBuffer1.physical_address\n",
    "b1ptr = biasBuffer1.physical_address\n",
    "outptr = outBuffer.physical_address\n",
    "\n",
    "top_ip.write(0x10, inptr)\n",
    "top_ip.write(0x1c, w0ptr)\n",
    "top_ip.write(0x28, b0ptr)\n",
    "top_ip.write(0x34, w1ptr)\n",
    "top_ip.write(0x40, b1ptr)\n",
    "top_ip.write(0x4c, outptr)"
   ]
  },
  {
   "cell_type": "code",
   "execution_count": 10,
   "metadata": {},
   "outputs": [],
   "source": [
    "#start the HLS kernel\n",
    "start_time = time.time()\n",
    "top_ip.write(0x00, 1)\n",
    "isready = top_ip.read(0x00)\n",
    "while (isready == 1):\n",
    "    isready = top_ip.read(0x00)\n",
    "end_time = time.time()"
   ]
  },
  {
   "cell_type": "code",
   "execution_count": 11,
   "metadata": {},
   "outputs": [],
   "source": [
    "my_output = np.full((batchSize,numOutputChannels,outputHeight,outputWidth),1, dtype=np.float32) \n",
    "for b in range (0, batchSize):\n",
    "    for i in range (0, numOutputChannels):\n",
    "        for j in range (0, outputHeight):\n",
    "            for k in range (0, outputWidth):\n",
    "                 my_output[b][i][j][k] = int16_to_fixed16_3(outBuffer[b][i][j][k])\n",
    "            "
   ]
  },
  {
   "cell_type": "code",
   "execution_count": 18,
   "metadata": {},
   "outputs": [
    {
     "name": "stdout",
     "output_type": "stream",
     "text": [
      "internet_latency: 0.000171661376953125\n",
      "runtime: 0.0015718936920166016\n",
      "expected:\n",
      "[ 0.25689793 -0.0879821  -0.29876578 -0.7450676   0.2707423  -0.39328253\n",
      " -0.36761388 -0.51023257 -0.5128461   0.18865699 -0.5157582  -0.57080376\n",
      " -0.706433   -0.4558599  -0.19102935 -0.2935251  -0.7222746  -0.13186099\n",
      "  0.9887995  -0.17377673 -1.2284567  -0.37220484 -0.85755765  0.05055475\n",
      " -0.08165509 -0.7155271  -1.1902595  -0.08883794 -0.01253189 -0.2753939\n",
      " -0.4159099  -0.18728805]\n",
      "my output:\n",
      "[ 0.11230469  0.22949219 -0.21508789 -0.55578613 -0.28430176 -0.5235596\n",
      " -0.92663574 -0.26342773 -0.02880859  0.4609375  -0.24853516 -0.40551758\n",
      "  1.0994873  -0.7928467  -0.08044434 -0.50805664 -0.9577637  -0.7352295\n",
      "  0.6072998  -0.15124512 -1.1711426  -0.5004883  -0.16210938 -0.65771484\n",
      "  0.4071045   0.06408691 -0.68359375  0.29858398 -0.41479492 -0.5690918\n",
      " -0.31762695 -0.26489258]\n",
      "MSE: 0.49252725\n"
     ]
    }
   ],
   "source": [
    "# Analyze the result\n",
    "overlay.free()\n",
    "# calculate time latency\n",
    "start_time1 = time.time()\n",
    "end_time1 = time.time()\n",
    "internet_latency = end_time1 - start_time1\n",
    "print('internet_latency:',internet_latency)\n",
    "print('runtime:',end_time - start_time - internet_latency)\n",
    "#print and compare your outputs\n",
    "print('expected:')\n",
    "print(outGolden[0][0][0])\n",
    "print('my output:')\n",
    "print(my_output[0][0][0])\n",
    "# calculate MSE\n",
    "difference = outGolden - my_output\n",
    "squared_difference = np.square(difference)\n",
    "mse = np.mean(squared_difference)\n",
    "print(\"MSE:\", mse)"
   ]
  },
  {
   "cell_type": "code",
   "execution_count": null,
   "metadata": {},
   "outputs": [],
   "source": []
  },
  {
   "cell_type": "code",
   "execution_count": null,
   "metadata": {},
   "outputs": [],
   "source": []
  },
  {
   "cell_type": "code",
   "execution_count": null,
   "metadata": {},
   "outputs": [],
   "source": []
  }
 ],
 "metadata": {
  "kernelspec": {
   "display_name": "Python 3 (ipykernel)",
   "language": "python",
   "name": "python3"
  },
  "language_info": {
   "codemirror_mode": {
    "name": "ipython",
    "version": 3
   },
   "file_extension": ".py",
   "mimetype": "text/x-python",
   "name": "python",
   "nbconvert_exporter": "python",
   "pygments_lexer": "ipython3",
   "version": "3.10.4"
  }
 },
 "nbformat": 4,
 "nbformat_minor": 2
}
